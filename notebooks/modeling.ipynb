{
 "cells": [
  {
   "cell_type": "code",
   "execution_count": 25,
   "metadata": {
    "scrolled": true
   },
   "outputs": [],
   "source": [
    "import pandas as pd\n",
    "import numpy as np\n",
    "import statsmodels.api as sm\n",
    "import sklearn\n",
    "import matplotlib.pyplot as plt\n",
    "import seaborn as sns\n",
    "import pickle\n",
    "\n",
    "from sklearn.model_selection import KFold\n",
    "from sklearn.metrics import mean_squared_error\n",
    "from sklearn.metrics import mean_absolute_error\n",
    "\n",
    "from sklearn.linear_model import LinearRegression\n",
    "from sklearn.linear_model import HuberRegressor\n",
    "from sklearn.ensemble import RandomForestRegressor\n",
    "import xgboost as xgb\n",
    "\n",
    "import torch\n",
    "import torch.nn as nn\n",
    "import torch.optim as optim\n",
    "\n",
    "from MachineLearning import splitting_tr_te, unshuffled_CV, hyperparameter_tuning\n",
    "\n",
    "import warnings\n",
    "warnings.filterwarnings('ignore')\n",
    "\n",
    "sns.set()"
   ]
  },
  {
   "cell_type": "code",
   "execution_count": 26,
   "metadata": {},
   "outputs": [],
   "source": [
    "data = pd.read_csv(\"../data/portfolio65_6.0month_prediction.csv\", index_col=0)"
   ]
  },
  {
   "cell_type": "code",
   "execution_count": 27,
   "metadata": {},
   "outputs": [
    {
     "name": "stdout",
     "output_type": "stream",
     "text": [
      "<class 'pandas.core.frame.DataFrame'>\n",
      "Int64Index: 2370 entries, 146 to 2515\n",
      "Data columns (total 30 columns):\n",
      " #   Column                                                             Non-Null Count  Dtype  \n",
      "---  ------                                                             --------------  -----  \n",
      " 0   65                                                                 2370 non-null   float64\n",
      " 1   DAY(Date)                                                          2370 non-null   int64  \n",
      " 2   MONTH(Date)                                                        2370 non-null   int64  \n",
      " 3   NUMERIC_LAG(Date, 65, periods=126)                                 2370 non-null   float64\n",
      " 4   NUMERIC_LAG(Date, 65, periods=127)                                 2370 non-null   float64\n",
      " 5   NUMERIC_LAG(Date, 65, periods=128)                                 2370 non-null   float64\n",
      " 6   NUMERIC_LAG(Date, 65, periods=129)                                 2370 non-null   float64\n",
      " 7   NUMERIC_LAG(Date, 65, periods=130)                                 2370 non-null   float64\n",
      " 8   NUMERIC_LAG(Date, 65, periods=131)                                 2370 non-null   float64\n",
      " 9   NUMERIC_LAG(Date, 65, periods=132)                                 2370 non-null   float64\n",
      " 10  NUMERIC_LAG(Date, 65, periods=133)                                 2370 non-null   float64\n",
      " 11  NUMERIC_LAG(Date, 65, periods=134)                                 2370 non-null   float64\n",
      " 12  NUMERIC_LAG(Date, 65, periods=135)                                 2370 non-null   float64\n",
      " 13  NUMERIC_LAG(Date, 65, periods=136)                                 2370 non-null   float64\n",
      " 14  NUMERIC_LAG(Date, 65, periods=137)                                 2370 non-null   float64\n",
      " 15  NUMERIC_LAG(Date, 65, periods=138)                                 2370 non-null   float64\n",
      " 16  NUMERIC_LAG(Date, 65, periods=139)                                 2370 non-null   float64\n",
      " 17  NUMERIC_LAG(Date, 65, periods=140)                                 2370 non-null   float64\n",
      " 18  NUMERIC_LAG(Date, 65, periods=141)                                 2370 non-null   float64\n",
      " 19  NUMERIC_LAG(Date, 65, periods=142)                                 2370 non-null   float64\n",
      " 20  NUMERIC_LAG(Date, 65, periods=143)                                 2370 non-null   float64\n",
      " 21  NUMERIC_LAG(Date, 65, periods=144)                                 2370 non-null   float64\n",
      " 22  NUMERIC_LAG(Date, 65, periods=145)                                 2370 non-null   float64\n",
      " 23  NUMERIC_LAG(Date, 65, periods=146)                                 2370 non-null   float64\n",
      " 24  ROLLING_MAX(Date, 65, window_length=21, gap=126, min_periods=21)   2370 non-null   float64\n",
      " 25  ROLLING_MEAN(Date, 65, window_length=21, gap=126, min_periods=21)  2370 non-null   float64\n",
      " 26  ROLLING_MIN(Date, 65, window_length=21, gap=126, min_periods=21)   2370 non-null   float64\n",
      " 27  ROLLING_STD(Date, 65, window_length=21, gap=126, min_periods=21)   2370 non-null   float64\n",
      " 28  WEEKDAY(Date)                                                      2370 non-null   int64  \n",
      " 29  YEAR(Date)                                                         2370 non-null   int64  \n",
      "dtypes: float64(26), int64(4)\n",
      "memory usage: 574.0 KB\n"
     ]
    }
   ],
   "source": [
    "data = data.dropna()\n",
    "data.info()"
   ]
  },
  {
   "cell_type": "code",
   "execution_count": 28,
   "metadata": {},
   "outputs": [],
   "source": [
    "def splitting_tr_te(df, size=0.95):\n",
    "    \n",
    "    split_point = int(df.shape[0]*size)\n",
    "\n",
    "    train = df.iloc[:split_point]\n",
    "    test = df.iloc[split_point:]\n",
    "    return train, test\n",
    "\n",
    "df, df_test = splitting_tr_te(data)"
   ]
  },
  {
   "cell_type": "code",
   "execution_count": 29,
   "metadata": {},
   "outputs": [],
   "source": [
    "# Models that I want to test out: Huber Regression, Random Forest, XGBoost, and LSTM\n",
    "def unshuffled_CV(X, y, list_of_models, model_names, folds=5):\n",
    "    results = {}\n",
    "    cv = KFold(n_splits=folds, shuffle=False)\n",
    "    \n",
    "    for model in range(len(list_of_models)):\n",
    "        metrics = {}\n",
    "        MSE = []\n",
    "        MAE = []\n",
    "        \n",
    "        for train, test in cv.split(X):\n",
    "            list_of_models[model].fit(X.iloc[train], y.iloc[train])\n",
    "            preds = list_of_models[model].predict(X.iloc[test])\n",
    "            \n",
    "            MSE.append(mean_squared_error(y.iloc[test], preds))\n",
    "            MAE.append(mean_absolute_error(y.iloc[test], preds))\n",
    "            \n",
    "        metrics[\"MSE\"] = np.mean(MSE)\n",
    "        metrics[\"MAE\"] = np.mean(MAE)\n",
    "        \n",
    "        results[model_names[model]] = metrics\n",
    "    \n",
    "    return results\n",
    "            "
   ]
  },
  {
   "cell_type": "code",
   "execution_count": 30,
   "metadata": {},
   "outputs": [],
   "source": [
    "X = df.iloc[:, 1:]\n",
    "y = df.iloc[:, 0]\n",
    "\n",
    "linear = LinearRegression()\n",
    "huber = HuberRegressor()\n",
    "rf = RandomForestRegressor()\n",
    "boost = xgb.XGBRegressor()\n",
    "\n",
    "list_of_models = [linear, huber, rf, boost]\n",
    "model_names = [\"Linear_Regression\", \"Huber_Regressor\", \"Random_Forest\", \"XGBoost\"]\n",
    "\n",
    "results = unshuffled_CV(X, y, list_of_models, model_names, folds=10)\n"
   ]
  },
  {
   "cell_type": "code",
   "execution_count": 31,
   "metadata": {
    "scrolled": true
   },
   "outputs": [
    {
     "data": {
      "text/html": [
       "<div>\n",
       "<style scoped>\n",
       "    .dataframe tbody tr th:only-of-type {\n",
       "        vertical-align: middle;\n",
       "    }\n",
       "\n",
       "    .dataframe tbody tr th {\n",
       "        vertical-align: top;\n",
       "    }\n",
       "\n",
       "    .dataframe thead th {\n",
       "        text-align: right;\n",
       "    }\n",
       "</style>\n",
       "<table border=\"1\" class=\"dataframe\">\n",
       "  <thead>\n",
       "    <tr style=\"text-align: right;\">\n",
       "      <th></th>\n",
       "      <th>Linear_Regression</th>\n",
       "      <th>Huber_Regressor</th>\n",
       "      <th>Random_Forest</th>\n",
       "      <th>XGBoost</th>\n",
       "    </tr>\n",
       "  </thead>\n",
       "  <tbody>\n",
       "    <tr>\n",
       "      <th>MSE</th>\n",
       "      <td>0.090857</td>\n",
       "      <td>0.069689</td>\n",
       "      <td>0.141852</td>\n",
       "      <td>0.133780</td>\n",
       "    </tr>\n",
       "    <tr>\n",
       "      <th>MAE</th>\n",
       "      <td>0.193027</td>\n",
       "      <td>0.178599</td>\n",
       "      <td>0.205327</td>\n",
       "      <td>0.206221</td>\n",
       "    </tr>\n",
       "  </tbody>\n",
       "</table>\n",
       "</div>"
      ],
      "text/plain": [
       "     Linear_Regression  Huber_Regressor  Random_Forest   XGBoost\n",
       "MSE           0.090857         0.069689       0.141852  0.133780\n",
       "MAE           0.193027         0.178599       0.205327  0.206221"
      ]
     },
     "execution_count": 31,
     "metadata": {},
     "output_type": "execute_result"
    }
   ],
   "source": [
    "results_df = pd.DataFrame(results)\n",
    "\n",
    "results_df"
   ]
  },
  {
   "cell_type": "markdown",
   "metadata": {},
   "source": [
    "## Hyperparameter tuning\n",
    "\n",
    "After finding that these models were approximately the same, it appeared that either the Huber regressor or random forest would be a good choice for hyperparameter tuning. "
   ]
  },
  {
   "cell_type": "code",
   "execution_count": 32,
   "metadata": {},
   "outputs": [],
   "source": [
    "def hyperparameter_tuning(X_train, X_test, y_train, y_test, function, param_grid, scoring, cv):\n",
    "    mod_cv = sklearn.model_selection.RandomizedSearchCV(function, n_iter=50, param_distributions=param_grid, scoring=scoring, cv=cv)\n",
    "    \n",
    "    mod_cv.fit(X_train, y_train)\n",
    "    best_param = mod_cv.best_params_\n",
    "    best_train_score = mod_cv.best_score_\n",
    "    \n",
    "    y_preds = mod_cv.predict(X_test)\n",
    "    \n",
    "    score_dict = {\"Best Hyperparameters\": best_param,\n",
    "                  \"Best training score\": best_train_score,\n",
    "                  \"MSE\": mean_squared_error(y_test, y_preds),\n",
    "                  \"MAE\": mean_absolute_error(y_test, y_preds)}\n",
    "    \n",
    "    return score_dict, y_preds"
   ]
  },
  {
   "cell_type": "markdown",
   "metadata": {},
   "source": [
    "### XGBoost"
   ]
  },
  {
   "cell_type": "code",
   "execution_count": 33,
   "metadata": {},
   "outputs": [],
   "source": [
    "X_train = df.iloc[:, 1:]\n",
    "y_train = df.iloc[:, 0]\n",
    "X_test = df_test.iloc[:, 1:]\n",
    "y_test = df_test.iloc[:, 0]\n",
    "\n",
    "param_grid = {\"n_estimators\": [30, 50, 70],\n",
    "              \"booster\": [\"gbtree\", \"dart\"],\n",
    "              \"eta\": [0.01, 0.05, 0.1, 0.15, 0.2], \n",
    "              \"gamma\": np.arange(5, 50, 5),\n",
    "              \"max_depth\": np.arange(3, 15, 3),\n",
    "              \"min_child_weight\": [10, 25, 40, 50],\n",
    "              \"max_delta_step\": np.arange(1, 10, 1),\n",
    "              \"subsample\": [0.5, 0.7, 0.8, 0.95], \n",
    "              \"lambda\": [0.3, 0.5, 0.7],\n",
    "              \"alpha\": [0.3, 0.5, 0.7],\n",
    "              \"colsample_bytree\": np.arange(0.3, 1, 0.1),\n",
    "              \"colsample_bylevel\": np.arange(0.3, 1, 0.1),\n",
    "              \"colsample_bynode\": np.arange(0.3, 1, 0.1),\n",
    "              \"objective\": [\"reg:squarederror\", \"reg:squaredlogerror\"]}\n",
    "\n",
    "scores, y_preds = hyperparameter_tuning(X_train, X_test, y_train, y_test, \n",
    "                                        function=boost, param_grid=param_grid, \n",
    "                                        scoring=\"neg_mean_squared_error\", cv=10)"
   ]
  },
  {
   "cell_type": "code",
   "execution_count": 34,
   "metadata": {},
   "outputs": [
    {
     "name": "stdout",
     "output_type": "stream",
     "text": [
      "{'Best Hyperparameters': {'subsample': 0.5, 'objective': 'reg:squarederror', 'n_estimators': 30, 'min_child_weight': 40, 'max_depth': 9, 'max_delta_step': 8, 'lambda': 0.5, 'gamma': 5, 'eta': 0.05, 'colsample_bytree': 0.6000000000000001, 'colsample_bynode': 0.8000000000000003, 'colsample_bylevel': 0.6000000000000001, 'booster': 'dart', 'alpha': 0.3}, 'Best training score': -0.18071071793370874, 'MSE': 0.385632521506899, 'MAE': 0.5668124751758451}\n"
     ]
    }
   ],
   "source": [
    "print(scores)"
   ]
  },
  {
   "cell_type": "markdown",
   "metadata": {},
   "source": [
    "### Huber Regressor"
   ]
  },
  {
   "cell_type": "code",
   "execution_count": 35,
   "metadata": {},
   "outputs": [],
   "source": [
    "X_train = df.iloc[:, 1:]\n",
    "y_train = df.iloc[:, 0]\n",
    "X_test = df_test.iloc[:, 1:]\n",
    "y_test = df_test.iloc[:, 0]\n",
    "\n",
    "param_grid = {\"epsilon\": [1.0001, 1.001, 1.01, 1.1, 1.25, 1.35, 1.5, 2, 3],\n",
    "              \"alpha\": [0.0001, 0.0005, 0.001, 0.005, 0.01, 0.05, 0.1, 0.5, 0.75]}\n",
    "\n",
    "hub_scores, hub_y_preds = hyperparameter_tuning(X_train, X_test, y_train, y_test, \n",
    "                                        function=huber, param_grid=param_grid, \n",
    "                                        scoring=\"neg_mean_squared_error\", cv=10)"
   ]
  },
  {
   "cell_type": "code",
   "execution_count": 36,
   "metadata": {},
   "outputs": [
    {
     "name": "stdout",
     "output_type": "stream",
     "text": [
      "{'Best Hyperparameters': {'epsilon': 1.001, 'alpha': 0.0005}, 'Best training score': -0.0676552179468009, 'MSE': 0.23117112094331577, 'MAE': 0.39797671050458916}\n"
     ]
    }
   ],
   "source": [
    "print(hub_scores)"
   ]
  },
  {
   "cell_type": "code",
   "execution_count": 74,
   "metadata": {},
   "outputs": [
    {
     "data": {
      "image/png": "[encoded data removed]",
      "text/plain": [
       "<Figure size 432x288 with 1 Axes>"
      ]
     },
     "metadata": {},
     "output_type": "display_data"
    }
   ],
   "source": [
    "# Plot the machine learning predictions against each other \n",
    "\n",
    "# Get the dates for the predictions\n",
    "prediction_periods = len(df_test[\"65\"])\n",
    "dates = pd.read_csv(\"../data/100portfolioReturns.csv\", index_col=0)\n",
    "prediction_dates = pd.to_datetime(dates.index[-prediction_periods:])\n",
    "\n",
    "# Plot the predictions\n",
    "plt.plot(prediction_dates, y_test, color=\"b\", label=\"actual\")\n",
    "plt.plot(prediction_dates, y_preds, color=\"r\", label=\"XGBoost\")\n",
    "plt.plot(prediction_dates, hub_y_preds, color=\"g\", label=\"huber regressor\")\n",
    "\n",
    "plt.title(\"Machine Learning Predictions\", fontsize=20)\n",
    "plt.xlabel(\"Dates\", fontsize=15)\n",
    "plt.ylabel(\"Returns\", fontsize=15)\n",
    "plt.legend()\n",
    "\n",
    "plt.show()"
   ]
  },
  {
   "cell_type": "markdown",
   "metadata": {},
   "source": [
    "## Model comparison\n",
    "\n",
    "Compare the machine learning models against the traditional modeling and LSTM model. "
   ]
  },
  {
   "cell_type": "code",
   "execution_count": 38,
   "metadata": {},
   "outputs": [],
   "source": [
    "# Load the LSTM and SARIMAX models created in the other modeling notebooks\n",
    "lstm = torch.load(\"../saved_models/returns_model_2022-06-08.pt\")\n",
    "lstm.eval()\n",
    "\n",
    "with open(\"../saved_models/sarimax5_0_4.pkl\", \"rb\") as f: \n",
    "    sarimax = pickle.load(f)"
   ]
  },
  {
   "cell_type": "code",
   "execution_count": 71,
   "metadata": {},
   "outputs": [
    {
     "name": "stdout",
     "output_type": "stream",
     "text": [
      "RUNNING THE L-BFGS-B CODE\n",
      "\n",
      "           * * *\n",
      "\n",
      "Machine precision = 2.220D-16\n",
      " N =         2251     M =           10\n",
      "\n",
      "At X0         0 variables are exactly at the bounds\n"
     ]
    },
    {
     "name": "stderr",
     "output_type": "stream",
     "text": [
      " This problem is unconstrained.\n"
     ]
    },
    {
     "name": "stdout",
     "output_type": "stream",
     "text": [
      "\n",
      "At iterate    0    f= -2.29783D+00    |proj g|=          NaN\n",
      "\n",
      "           * * *\n",
      "\n",
      "Tit   = total number of iterations\n",
      "Tnf   = total number of function evaluations\n",
      "Tnint = total number of segments explored during Cauchy searches\n",
      "Skip  = number of BFGS updates skipped\n",
      "Nact  = number of active bounds at final generalized Cauchy point\n",
      "Projg = norm of the final projected gradient\n",
      "F     = final function value\n",
      "\n",
      "           * * *\n",
      "\n",
      "   N    Tit     Tnf  Tnint  Skip  Nact     Projg        F\n",
      " 2251      1     21      1     0     0         NaN  -2.298D+00\n",
      "  F =  -2.2978345131112619     \n",
      "\n",
      "ABNORMAL_TERMINATION_IN_LNSRCH                              \n"
     ]
    },
    {
     "name": "stderr",
     "output_type": "stream",
     "text": [
      "\n",
      " Line search cannot locate an adequate point after MAXLS\n",
      "  function and gradient evaluations.\n",
      "  Previous x, f and g restored.\n",
      " Possible causes: 1 error in function or gradient evaluation;\n",
      "                  2 rounding error dominate computation.\n"
     ]
    },
    {
     "name": "stdout",
     "output_type": "stream",
     "text": [
      "** On entry to DLASCL, parameter number  4 had an illegal value\n",
      "** On entry to DLASCL, parameter number  4 had an illegal value\n"
     ]
    },
    {
     "data": {
      "text/html": [
       "<div>\n",
       "<style scoped>\n",
       "    .dataframe tbody tr th:only-of-type {\n",
       "        vertical-align: middle;\n",
       "    }\n",
       "\n",
       "    .dataframe tbody tr th {\n",
       "        vertical-align: top;\n",
       "    }\n",
       "\n",
       "    .dataframe thead th {\n",
       "        text-align: right;\n",
       "    }\n",
       "</style>\n",
       "<table border=\"1\" class=\"dataframe\">\n",
       "  <thead>\n",
       "    <tr style=\"text-align: right;\">\n",
       "      <th></th>\n",
       "      <th>Traditional Modeling</th>\n",
       "      <th>XGBoost</th>\n",
       "      <th>Huber Regressor</th>\n",
       "      <th>LSTM</th>\n",
       "    </tr>\n",
       "  </thead>\n",
       "  <tbody>\n",
       "    <tr>\n",
       "      <th>MSE</th>\n",
       "      <td>8.473240</td>\n",
       "      <td>0.385633</td>\n",
       "      <td>0.231171</td>\n",
       "      <td>0.166148</td>\n",
       "    </tr>\n",
       "    <tr>\n",
       "      <th>MAE</th>\n",
       "      <td>2.875522</td>\n",
       "      <td>0.566812</td>\n",
       "      <td>0.397977</td>\n",
       "      <td>0.348054</td>\n",
       "    </tr>\n",
       "  </tbody>\n",
       "</table>\n",
       "</div>"
      ],
      "text/plain": [
       "     Traditional Modeling   XGBoost  Huber Regressor      LSTM\n",
       "MSE              8.473240  0.385633         0.231171  0.166148\n",
       "MAE              2.875522  0.566812         0.397977  0.348054"
      ]
     },
     "execution_count": 71,
     "metadata": {},
     "output_type": "execute_result"
    }
   ],
   "source": [
    "# Compare the models against each other\n",
    "prediction_periods = len(df_test[\"65\"])\n",
    "\n",
    "# Fit the traditional model\n",
    "sarimax_results = sarimax.fit(y_train)\n",
    "sarimax_preds = sarimax_results.forecast(steps=prediction_periods)\n",
    "\n",
    "# Fit the machine learning models\n",
    "boost.set_params(**scores[\"Best Hyperparameters\"])\n",
    "boost.fit(X_train, y_train)\n",
    "boost_preds = boost.predict(X_test)\n",
    "\n",
    "huber.set_params(**hub_scores[\"Best Hyperparameters\"])\n",
    "huber.fit(X_train, y_train)\n",
    "huber_preds = huber.predict(X_test)\n",
    "\n",
    "# Fit the LSTM model\n",
    "criterion = nn.MSELoss()\n",
    "\n",
    "lstm_input = torch.from_numpy(data[[\"65\"]].T.to_numpy()[:, :-prediction_periods])\n",
    "lstm_target = torch.from_numpy(data[[\"65\"]].T.to_numpy()[:, prediction_periods:])\n",
    "\n",
    "with torch.no_grad():\n",
    "        pred = lstm(lstm_input.float())\n",
    "        loss = criterion(pred, lstm_target)\n",
    "        lstm_preds = pred.detach().numpy().reshape(lstm_target.shape[1])[-prediction_periods:]\n",
    "\n",
    "# Score final MSE and MAE of each model\n",
    "model_list = [\"Traditional Modeling\", \"XGBoost\", \"Huber Regressor\", \"LSTM\"]\n",
    "model_preds = [sarimax_preds, boost_preds, huber_preds, lstm_preds]\n",
    "final_results = {}\n",
    "\n",
    "for model in range(len(model_list)):\n",
    "        metrics = {}\n",
    "        metrics[\"MSE\"] = mean_squared_error(y_test, model_preds[model])\n",
    "        metrics[\"MAE\"] = mean_absolute_error(y_test, model_preds[model])\n",
    "\n",
    "        final_results[model_list[model]] = metrics\n",
    "\n",
    "pd.DataFrame(final_results)"
   ]
  },
  {
   "cell_type": "code",
   "execution_count": 72,
   "metadata": {},
   "outputs": [
    {
     "data": {
      "image/png": "[encoded data removed]",
      "text/plain": [
       "<Figure size 864x432 with 1 Axes>"
      ]
     },
     "metadata": {},
     "output_type": "display_data"
    }
   ],
   "source": [
    "# Show the predictions compared to the actual \n",
    "\n",
    "# Get the dates from the other dataset\n",
    "dates = pd.read_csv(\"../data/100portfolioReturns.csv\", index_col=0)\n",
    "\n",
    "prediction_dates = pd.to_datetime(dates.index[-prediction_periods:])\n",
    "\n",
    "color_list = [\"b\", \"g\", \"r\", \"c\", \"m\", \"y\"]\n",
    "\n",
    "plt.figure(figsize=(12, 6))\n",
    "\n",
    "for preds in range(len(model_list)):\n",
    "    plt.plot(prediction_dates, model_preds[preds], color=color_list[preds], label=model_list[preds])\n",
    "\n",
    "plt.plot(prediction_dates, y_test, color=color_list[len(model_list)+1], label=\"Actuals\")\n",
    "plt.title(\"Model Comparison\", fontsize=20)\n",
    "plt.xlabel(\"Dates\", fontsize=15)\n",
    "plt.ylabel(\"Returns\", fontsize=15)\n",
    "plt.xticks(fontsize=15, rotation=45)\n",
    "plt.yticks(fontsize=15)\n",
    "plt.legend()\n",
    "\n",
    "plt.show()"
   ]
  },
  {
   "cell_type": "code",
   "execution_count": null,
   "metadata": {},
   "outputs": [],
   "source": []
  }
 ],
 "metadata": {
  "interpreter": {
   "hash": "03451d5046773f0fd5086145cfac842a4e8bfa5c87755c9498c498dd30e938db"
  },
  "kernelspec": {
   "display_name": "Python 3.9.7 ('model')",
   "language": "python",
   "name": "python3"
  },
  "language_info": {
   "codemirror_mode": {
    "name": "ipython",
    "version": 3
   },
   "file_extension": ".py",
   "mimetype": "text/x-python",
   "name": "python",
   "nbconvert_exporter": "python",
   "pygments_lexer": "ipython3",
   "version": "3.9.7"
  }
 },
 "nbformat": 4,
 "nbformat_minor": 4
}

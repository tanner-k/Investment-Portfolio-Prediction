{
 "cells": [
  {
   "cell_type": "code",
   "execution_count": 25,
   "metadata": {
    "scrolled": true
   },
   "outputs": [],
   "source": [
    "import pandas as pd\n",
    "import numpy as np\n",
    "import statsmodels.api as sm\n",
    "import sklearn\n",
    "import matplotlib.pyplot as plt\n",
    "import seaborn as sns\n",
    "\n",
    "from sklearn.linear_model import LinearRegression\n",
    "from sklearn.linear_model import HuberRegressor\n",
    "from sklearn.ensemble import RandomForestRegressor\n",
    "import xgboost as xgb\n",
    "\n",
    "from MachineLearning import splitting_tr_te, unshuffled_CV, hyperparameter_tuning\n",
    "\n",
    "import warnings\n",
    "warnings.filterwarnings('ignore')\n",
    "\n",
    "sns.set()"
   ]
  },
  {
   "cell_type": "code",
   "execution_count": 2,
   "metadata": {},
   "outputs": [],
   "source": [
    "data = pd.read_csv(\"../data/portfolio65_6.0month_prediction.csv\", index_col=0)"
   ]
  },
  {
   "cell_type": "code",
   "execution_count": 3,
   "metadata": {},
   "outputs": [
    {
     "name": "stdout",
     "output_type": "stream",
     "text": [
      "<class 'pandas.core.frame.DataFrame'>\n",
      "Int64Index: 2370 entries, 146 to 2515\n",
      "Data columns (total 30 columns):\n",
      " #   Column                                                             Non-Null Count  Dtype  \n",
      "---  ------                                                             --------------  -----  \n",
      " 0   65                                                                 2370 non-null   float64\n",
      " 1   DAY(Date)                                                          2370 non-null   int64  \n",
      " 2   MONTH(Date)                                                        2370 non-null   int64  \n",
      " 3   NUMERIC_LAG(Date, 65, periods=126)                                 2370 non-null   float64\n",
      " 4   NUMERIC_LAG(Date, 65, periods=127)                                 2370 non-null   float64\n",
      " 5   NUMERIC_LAG(Date, 65, periods=128)                                 2370 non-null   float64\n",
      " 6   NUMERIC_LAG(Date, 65, periods=129)                                 2370 non-null   float64\n",
      " 7   NUMERIC_LAG(Date, 65, periods=130)                                 2370 non-null   float64\n",
      " 8   NUMERIC_LAG(Date, 65, periods=131)                                 2370 non-null   float64\n",
      " 9   NUMERIC_LAG(Date, 65, periods=132)                                 2370 non-null   float64\n",
      " 10  NUMERIC_LAG(Date, 65, periods=133)                                 2370 non-null   float64\n",
      " 11  NUMERIC_LAG(Date, 65, periods=134)                                 2370 non-null   float64\n",
      " 12  NUMERIC_LAG(Date, 65, periods=135)                                 2370 non-null   float64\n",
      " 13  NUMERIC_LAG(Date, 65, periods=136)                                 2370 non-null   float64\n",
      " 14  NUMERIC_LAG(Date, 65, periods=137)                                 2370 non-null   float64\n",
      " 15  NUMERIC_LAG(Date, 65, periods=138)                                 2370 non-null   float64\n",
      " 16  NUMERIC_LAG(Date, 65, periods=139)                                 2370 non-null   float64\n",
      " 17  NUMERIC_LAG(Date, 65, periods=140)                                 2370 non-null   float64\n",
      " 18  NUMERIC_LAG(Date, 65, periods=141)                                 2370 non-null   float64\n",
      " 19  NUMERIC_LAG(Date, 65, periods=142)                                 2370 non-null   float64\n",
      " 20  NUMERIC_LAG(Date, 65, periods=143)                                 2370 non-null   float64\n",
      " 21  NUMERIC_LAG(Date, 65, periods=144)                                 2370 non-null   float64\n",
      " 22  NUMERIC_LAG(Date, 65, periods=145)                                 2370 non-null   float64\n",
      " 23  NUMERIC_LAG(Date, 65, periods=146)                                 2370 non-null   float64\n",
      " 24  ROLLING_MAX(Date, 65, window_length=21, gap=126, min_periods=21)   2370 non-null   float64\n",
      " 25  ROLLING_MEAN(Date, 65, window_length=21, gap=126, min_periods=21)  2370 non-null   float64\n",
      " 26  ROLLING_MIN(Date, 65, window_length=21, gap=126, min_periods=21)   2370 non-null   float64\n",
      " 27  ROLLING_STD(Date, 65, window_length=21, gap=126, min_periods=21)   2370 non-null   float64\n",
      " 28  WEEKDAY(Date)                                                      2370 non-null   int64  \n",
      " 29  YEAR(Date)                                                         2370 non-null   int64  \n",
      "dtypes: float64(26), int64(4)\n",
      "memory usage: 574.0 KB\n"
     ]
    }
   ],
   "source": [
    "data = data.dropna()\n",
    "data.info()"
   ]
  },
  {
   "cell_type": "code",
   "execution_count": 4,
   "metadata": {},
   "outputs": [],
   "source": [
    "def splitting_tr_te(df, size=0.95):\n",
    "    \n",
    "    split_point = int(df.shape[0]*size)\n",
    "\n",
    "    train = df.iloc[:split_point]\n",
    "    test = df.iloc[split_point:]\n",
    "    return train, test\n",
    "\n",
    "df, df_test = splitting_tr_te(data)"
   ]
  },
  {
   "cell_type": "code",
   "execution_count": 5,
   "metadata": {},
   "outputs": [],
   "source": [
    "# Models that I want to test out: Huber Regression, Random Forest, XGBoost, and LSTM\n",
    "def unshuffled_CV(X, y, list_of_models, model_names, folds=5):\n",
    "    results = {}\n",
    "    cv = KFold(n_splits=folds, shuffle=False)\n",
    "    \n",
    "    for model in range(len(list_of_models)):\n",
    "        metrics = {}\n",
    "        MSE = []\n",
    "        MAE = []\n",
    "        \n",
    "        for train, test in cv.split(X):\n",
    "            list_of_models[model].fit(X.iloc[train], y.iloc[train])\n",
    "            preds = list_of_models[model].predict(X.iloc[test])\n",
    "            \n",
    "            MSE.append(mean_squared_error(y.iloc[test], preds))\n",
    "            MAE.append(mean_absolute_error(y.iloc[test], preds))\n",
    "            \n",
    "        metrics[\"MSE\"] = np.mean(MSE)\n",
    "        metrics[\"MAE\"] = np.mean(MAE)\n",
    "        \n",
    "        results[model_names[model]] = metrics\n",
    "    \n",
    "    return results\n",
    "            "
   ]
  },
  {
   "cell_type": "code",
   "execution_count": 26,
   "metadata": {},
   "outputs": [],
   "source": [
    "X = df.iloc[:, 1:]\n",
    "y = df.iloc[:, 0]\n",
    "\n",
    "linear = LinearRegression()\n",
    "huber = HuberRegressor()\n",
    "rf = RandomForestRegressor()\n",
    "boost = xgb.XGBRegressor()\n",
    "\n",
    "list_of_models = [linear, huber, rf, boost]\n",
    "model_names = [\"Linear_Regression\", \"Huber_Regressor\", \"Random_Forest\", \"XGBoost\"]\n",
    "\n",
    "results = unshuffled_CV(X, y, list_of_models, model_names, folds=10)\n"
   ]
  },
  {
   "cell_type": "code",
   "execution_count": 27,
   "metadata": {
    "scrolled": true
   },
   "outputs": [
    {
     "data": {
      "text/html": [
       "<div>\n",
       "<style scoped>\n",
       "    .dataframe tbody tr th:only-of-type {\n",
       "        vertical-align: middle;\n",
       "    }\n",
       "\n",
       "    .dataframe tbody tr th {\n",
       "        vertical-align: top;\n",
       "    }\n",
       "\n",
       "    .dataframe thead th {\n",
       "        text-align: right;\n",
       "    }\n",
       "</style>\n",
       "<table border=\"1\" class=\"dataframe\">\n",
       "  <thead>\n",
       "    <tr style=\"text-align: right;\">\n",
       "      <th></th>\n",
       "      <th>Linear_Regression</th>\n",
       "      <th>Huber_Regressor</th>\n",
       "      <th>Random_Forest</th>\n",
       "      <th>XGBoost</th>\n",
       "    </tr>\n",
       "  </thead>\n",
       "  <tbody>\n",
       "    <tr>\n",
       "      <th>MSE</th>\n",
       "      <td>0.090857</td>\n",
       "      <td>0.070740</td>\n",
       "      <td>0.141881</td>\n",
       "      <td>0.133780</td>\n",
       "    </tr>\n",
       "    <tr>\n",
       "      <th>MAE</th>\n",
       "      <td>0.193027</td>\n",
       "      <td>0.181672</td>\n",
       "      <td>0.206345</td>\n",
       "      <td>0.206221</td>\n",
       "    </tr>\n",
       "  </tbody>\n",
       "</table>\n",
       "</div>"
      ],
      "text/plain": [
       "     Linear_Regression  Huber_Regressor  Random_Forest   XGBoost\n",
       "MSE           0.090857         0.070740       0.141881  0.133780\n",
       "MAE           0.193027         0.181672       0.206345  0.206221"
      ]
     },
     "execution_count": 27,
     "metadata": {},
     "output_type": "execute_result"
    }
   ],
   "source": [
    "results_df = pd.DataFrame(results)\n",
    "\n",
    "results_df"
   ]
  },
  {
   "cell_type": "markdown",
   "metadata": {},
   "source": [
    "## Hyperparameter tuning\n",
    "\n",
    "After finding that these models were approximately the same, it appeared that either the Huber regressor or random forest would be a good choice for hyperparameter tuning. "
   ]
  },
  {
   "cell_type": "code",
   "execution_count": 8,
   "metadata": {},
   "outputs": [],
   "source": [
    "def hyperparameter_tuning(X_train, X_test, y_train, y_test, function, param_grid, scoring, cv):\n",
    "    mod_cv = sklearn.model_selection.RandomizedSearchCV(function, n_iter=50, param_distributions=param_grid, scoring=scoring, cv=cv)\n",
    "    \n",
    "    mod_cv.fit(X_train, y_train)\n",
    "    best_param = mod_cv.best_params_\n",
    "    best_train_score = mod_cv.best_score_\n",
    "    \n",
    "    y_preds = mod_cv.predict(X_test)\n",
    "    \n",
    "    score_dict = {\"Best Hyperparameters\": best_param,\n",
    "                  \"Best training score\": best_train_score,\n",
    "                  \"MSE\": mean_squared_error(y_test, y_preds),\n",
    "                  \"MAE\": mean_absolute_error(y_test, y_preds)}\n",
    "    \n",
    "    return score_dict, y_preds"
   ]
  },
  {
   "cell_type": "markdown",
   "metadata": {},
   "source": [
    "### XGBoost"
   ]
  },
  {
   "cell_type": "code",
   "execution_count": 16,
   "metadata": {},
   "outputs": [],
   "source": [
    "X_train = df.iloc[:, 1:]\n",
    "y_train = df.iloc[:, 0]\n",
    "X_test = df_test.iloc[:, 1:]\n",
    "y_test = df_test.iloc[:, 0]\n",
    "\n",
    "param_grid = {\"n_estimators\": [30, 50, 70],\n",
    "              \"booster\": [\"gbtree\", \"dart\"],\n",
    "              \"eta\": [0.01, 0.05, 0.1, 0.15, 0.2], \n",
    "              \"gamma\": np.arange(5, 50, 5),\n",
    "              \"max_depth\": np.arange(3, 15, 3),\n",
    "              \"min_child_weight\": [10, 25, 40, 50],\n",
    "              \"max_delta_step\": np.arange(1, 10, 1),\n",
    "              \"subsample\": [0.5, 0.7, 0.8, 0.95], \n",
    "              \"lambda\": [0.3, 0.5, 0.7],\n",
    "              \"alpha\": [0.3, 0.5, 0.7],\n",
    "              \"colsample_bytree\": np.arange(0.3, 1, 0.1),\n",
    "              \"colsample_bylevel\": np.arange(0.3, 1, 0.1),\n",
    "              \"colsample_bynode\": np.arange(0.3, 1, 0.1),\n",
    "              \"objective\": [\"reg:squarederror\", \"reg:squaredlogerror\"]}\n",
    "\n",
    "scores, y_preds = hyperparameter_tuning(X_train, X_test, y_train, y_test, \n",
    "                                        function=boost, param_grid=param_grid, \n",
    "                                        scoring=\"neg_mean_squared_error\", cv=10)"
   ]
  },
  {
   "cell_type": "code",
   "execution_count": null,
   "metadata": {},
   "outputs": [],
   "source": [
    "param_grid = {\"n_estimators\": [30, 50, 70],\n",
    "              \"booster\": [\"gbtree\", \"dart\"],\n",
    "              \"eta\": [0.01, 0.05, 0.1, 0.15, 0.2], \n",
    "              \"gamma\": np.arange(5, 50, 5),\n",
    "              \"max_depth\": np.arange(3, 15, 3),\n",
    "              \"min_child_weight\": [10, 25, 40, 50],\n",
    "              \"max_delta_step\": np.arange(1, 10, 1),\n",
    "              \"subsample\": [0.5, 0.7, 0.8, 0.95], \n",
    "              \"lambda\": [0.3, 0.5, 0.7],\n",
    "              \"alpha\": [0.3, 0.5, 0.7],\n",
    "              \"colsample_bytree\": np.arange(0.3, 1, 0.1),\n",
    "              \"colsample_bylevel\": np.arange(0.3, 1, 0.1),\n",
    "              \"colsample_bynode\": np.arange(0.3, 1, 0.1),\n",
    "              \"objective\": [\"reg:squarederror\", \"reg:squaredlogerror\"]}"
   ]
  },
  {
   "cell_type": "code",
   "execution_count": 17,
   "metadata": {},
   "outputs": [
    {
     "name": "stdout",
     "output_type": "stream",
     "text": [
      "{'Best Hyperparameters': {'subsample': 0.8, 'objective': 'reg:squarederror', 'n_estimators': 30, 'min_child_weight': 40, 'max_depth': 3, 'max_delta_step': 2, 'lambda': 0.3, 'gamma': 5, 'eta': 0.1, 'colsample_bytree': 0.9000000000000001, 'colsample_bynode': 0.8000000000000003, 'colsample_bylevel': 0.6000000000000001, 'booster': 'gbtree', 'alpha': 0.3}, 'Best training score': -0.16964379106652705, 'MSE': 0.34098116079638613, 'MAE': 0.5257950650417781}\n"
     ]
    }
   ],
   "source": [
    "print(scores)"
   ]
  },
  {
   "cell_type": "markdown",
   "metadata": {},
   "source": [
    "### Huber Regressor"
   ]
  },
  {
   "cell_type": "code",
   "execution_count": 11,
   "metadata": {},
   "outputs": [],
   "source": [
    "X_train = df.iloc[:, 1:]\n",
    "y_train = df.iloc[:, 0]\n",
    "X_test = df_test.iloc[:, 1:]\n",
    "y_test = df_test.iloc[:, 0]\n",
    "\n",
    "param_grid = {\"epsilon\": [1.0001, 1.001, 1.01, 1.1, 1.25, 1.35, 1.5, 2, 3],\n",
    "              \"alpha\": [0.0001, 0.0005, 0.001, 0.005, 0.01, 0.05, 0.1, 0.5, 0.75]}\n",
    "\n",
    "hub_scores, hub_y_preds = hyperparameter_tuning(X_train, X_test, y_train, y_test, \n",
    "                                        function=huber, param_grid=param_grid, \n",
    "                                        scoring=\"neg_mean_squared_error\", cv=10)"
   ]
  },
  {
   "cell_type": "code",
   "execution_count": 12,
   "metadata": {},
   "outputs": [
    {
     "name": "stdout",
     "output_type": "stream",
     "text": [
      "{'Best Hyperparameters': {'epsilon': 1.0001, 'alpha': 0.0001}, 'Best training score': -0.06599707089009352, 'MSE': 0.23252908300785094, 'MAE': 0.3985723491231092}\n"
     ]
    }
   ],
   "source": [
    "print(hub_scores)"
   ]
  },
  {
   "cell_type": "code",
   "execution_count": 28,
   "metadata": {},
   "outputs": [
    {
     "data": {
      "image/png": "[encoded data removed]",
      "text/plain": [
       "<Figure size 432x288 with 1 Axes>"
      ]
     },
     "metadata": {},
     "output_type": "display_data"
    }
   ],
   "source": [
    "#  = len(y_test)\n",
    "\n",
    "y_test[:].plot(color=\"b\", label=\"actual\")\n",
    "plt.plot(y_test.index[:], y_preds[:], color=\"r\", label=\"XGBoost\")\n",
    "plt.plot(y_test.index[:], hub_y_preds[:], color=\"g\", label=\"huber regressor\")\n",
    "\n",
    "plt.legend()\n",
    "\n",
    "plt.show()"
   ]
  },
  {
   "cell_type": "code",
   "execution_count": null,
   "metadata": {},
   "outputs": [],
   "source": []
  }
 ],
 "metadata": {
  "interpreter": {
   "hash": "03451d5046773f0fd5086145cfac842a4e8bfa5c87755c9498c498dd30e938db"
  },
  "kernelspec": {
   "display_name": "Python 3.9.7 ('model')",
   "language": "python",
   "name": "python3"
  },
  "language_info": {
   "codemirror_mode": {
    "name": "ipython",
    "version": 3
   },
   "file_extension": ".py",
   "mimetype": "text/x-python",
   "name": "python",
   "nbconvert_exporter": "python",
   "pygments_lexer": "ipython3",
   "version": "3.9.7"
  }
 },
 "nbformat": 4,
 "nbformat_minor": 4
}
